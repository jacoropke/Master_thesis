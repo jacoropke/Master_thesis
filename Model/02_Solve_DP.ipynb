{
 "cells": [
  {
   "cell_type": "markdown",
   "metadata": {},
   "source": [
    "# EGM"
   ]
  },
  {
   "cell_type": "markdown",
   "metadata": {},
   "source": [
    "**Table of contents**<a id='toc0_'></a>    \n",
    "- 1. [Imports](#toc1_)    \n",
    "- 2. [Model](#toc2_)    \n",
    "- 3. [Numba](#toc3_)    \n",
    "  - 3.1. [Compile](#toc3_1_)    \n",
    "  - 3.2. [Euler-error](#toc3_2_)    \n",
    "  - 3.3. [Transfer func](#toc3_3_)    \n",
    "  - 3.4. [Multiple Rs and transfer funcs](#toc3_4_)    \n",
    "  - 3.5. [Save](#toc3_5_)    \n",
    "  - 3.6. [Time](#toc3_6_)    \n",
    "- 4. [C++](#toc4_)    \n",
    "  - 4.1. [Compile](#toc4_1_)    \n",
    "  - 4.2. [Time](#toc4_2_)    \n",
    "  - 4.3. [No threading](#toc4_3_)    \n",
    "  - 4.4. [R](#toc4_4_)    \n",
    "\n",
    "<!-- vscode-jupyter-toc-config\n",
    "\tnumbering=true\n",
    "\tanchor=true\n",
    "\tflat=false\n",
    "\tminLevel=2\n",
    "\tmaxLevel=6\n",
    "\t/vscode-jupyter-toc-config -->\n",
    "<!-- THIS CELL WILL BE REPLACED ON TOC UPDATE. DO NOT WRITE YOUR TEXT IN THIS CELL -->"
   ]
  },
  {
   "cell_type": "markdown",
   "metadata": {},
   "source": [
    "## 1. <a id='toc1_'></a>[Imports](#toc0_)"
   ]
  },
  {
   "cell_type": "code",
   "execution_count": null,
   "metadata": {
    "tags": []
   },
   "outputs": [],
   "source": [
    "%load_ext autoreload\n",
    "%autoreload 2"
   ]
  },
  {
   "cell_type": "code",
   "execution_count": null,
   "metadata": {
    "tags": []
   },
   "outputs": [],
   "source": [
    "import os\n",
    "import numpy as np\n",
    "import torch\n",
    "import time\n",
    "from copy import deepcopy\n",
    "import pickle\n",
    "import matplotlib.pyplot as plt\n",
    "colors = plt.rcParams['axes.prop_cycle'].by_key()['color']\n",
    "plt.rcParams.update({\"axes.grid\" : True, \"grid.color\": \"black\", \"grid.alpha\":\"0.25\", \"grid.linestyle\": \"--\"})\n",
    "plt.rcParams.update({'font.size': 14})"
   ]
  },
  {
   "cell_type": "code",
   "execution_count": null,
   "metadata": {
    "tags": []
   },
   "outputs": [],
   "source": [
    "from BufferStockModel import BufferStockModelClass\n",
    "from BufferStockModelEGM import BufferStockModelEGMClass\n",
    "from EconDLSolvers import choose_gpu"
   ]
  },
  {
   "cell_type": "markdown",
   "metadata": {},
   "source": [
    "## 2. <a id='toc2_'></a>[Approximate Model](#toc0_)"
   ]
  },
  {
   "cell_type": "code",
   "execution_count": null,
   "metadata": {},
   "outputs": [],
   "source": [
    "par_dict = {'use_reg':True}\n",
    "\n",
    "# model_reg = BufferStockModelEGMClass(par =par_dict, egm = egm_dict)\n",
    "model_approx = BufferStockModelEGMClass(par =par_dict)"
   ]
  },
  {
   "cell_type": "code",
   "execution_count": null,
   "metadata": {},
   "outputs": [],
   "source": [
    "t0 = time.perf_counter()\n",
    "model_approx.link_to_cpp(do_print=False)\n",
    "print(f'Compile: {time.perf_counter()-t0:.1f} seconds')\n",
    "t0 = time.perf_counter()\n",
    "model_approx.cpp.solve_all(model_approx.par,model_approx.egm)\n",
    "EGM_time = time.perf_counter()-t0\n",
    "model_approx.simulate_R() # same states and shocks as in .sim\n",
    "model_approx.cpp.compute_euler_errors(model_approx.par,model_approx.egm,model_approx.sim)\n",
    "model_approx.info['time'] = EGM_time\n",
    "\n",
    "model_approx_dict = model_approx.as_dict()\n",
    "model_save = deepcopy(model_approx_dict) # save the model to a file\n",
    "filename = 'GUV_DP_reg.pkl'\n",
    "with open(f'{filename}', 'wb') as f:\n",
    "    pickle.dump(model_save, f)\t\n",
    "\n",
    "\n",
    "\n",
    "model_approx.cpp.delink()"
   ]
  },
  {
   "cell_type": "markdown",
   "metadata": {},
   "source": [
    "## 3. <a id='toc2_'></a>[Baseline Model](#toc0_)"
   ]
  },
  {
   "cell_type": "code",
   "execution_count": null,
   "metadata": {
    "tags": []
   },
   "outputs": [],
   "source": [
    "model_base = BufferStockModelEGMClass()"
   ]
  },
  {
   "cell_type": "code",
   "execution_count": null,
   "metadata": {},
   "outputs": [],
   "source": [
    "t0 = time.perf_counter()\n",
    "model_base.link_to_cpp(do_print=False)\n",
    "print(f'Compile: {time.perf_counter()-t0:.1f} seconds')\n",
    "t0 = time.perf_counter()\n",
    "model_base.cpp.solve_all(model_base.par,model_base.egm)\n",
    "EGM_time = time.perf_counter()-t0\n",
    "model_base.simulate_R() # same states and shocks as in .sim\n",
    "model_base.cpp.compute_euler_errors(model_base.par,model_base.egm,model_base.sim)\n",
    "model_base.info['time'] = EGM_time\n",
    "\n",
    "model_base_dict = model_base.as_dict()\n",
    "model_save = deepcopy(model_base_dict) # save the model to a file\n",
    "model_save['egm'].sol_con = None\n",
    "\n",
    "filename = 'GUV_DP_base.pkl'\n",
    "with open(f'{filename}', 'wb') as f:\n",
    "    pickle.dump(model_save, f)\t\n",
    "\n",
    "\n",
    "\n",
    "model_base.cpp.delink()"
   ]
  }
 ],
 "metadata": {
  "kernelspec": {
   "display_name": "base",
   "language": "python",
   "name": "python3"
  },
  "language_info": {
   "codemirror_mode": {
    "name": "ipython",
    "version": 3
   },
   "file_extension": ".py",
   "mimetype": "text/x-python",
   "name": "python",
   "nbconvert_exporter": "python",
   "pygments_lexer": "ipython3",
   "version": "3.11.4"
  }
 },
 "nbformat": 4,
 "nbformat_minor": 4
}
