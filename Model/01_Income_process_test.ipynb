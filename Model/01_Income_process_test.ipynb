{
 "cells": [
  {
   "cell_type": "markdown",
   "metadata": {},
   "source": [
    "# EGM"
   ]
  },
  {
   "cell_type": "markdown",
   "metadata": {},
   "source": [
    "**Table of contents**<a id='toc0_'></a>    \n",
    "- 1. [Imports](#toc1_)    \n",
    "- 2. [Model](#toc2_)    \n",
    "- 3. [Numba](#toc3_)    \n",
    "  - 3.1. [Compile](#toc3_1_)    \n",
    "  - 3.2. [Euler-error](#toc3_2_)    \n",
    "  - 3.3. [Transfer func](#toc3_3_)    \n",
    "  - 3.4. [Multiple Rs and transfer funcs](#toc3_4_)    \n",
    "  - 3.5. [Save](#toc3_5_)    \n",
    "  - 3.6. [Time](#toc3_6_)    \n",
    "- 4. [C++](#toc4_)    \n",
    "  - 4.1. [Compile](#toc4_1_)    \n",
    "  - 4.2. [Time](#toc4_2_)    \n",
    "  - 4.3. [No threading](#toc4_3_)    \n",
    "  - 4.4. [R](#toc4_4_)    \n",
    "\n",
    "<!-- vscode-jupyter-toc-config\n",
    "\tnumbering=true\n",
    "\tanchor=true\n",
    "\tflat=false\n",
    "\tminLevel=2\n",
    "\tmaxLevel=6\n",
    "\t/vscode-jupyter-toc-config -->\n",
    "<!-- THIS CELL WILL BE REPLACED ON TOC UPDATE. DO NOT WRITE YOUR TEXT IN THIS CELL -->"
   ]
  },
  {
   "cell_type": "markdown",
   "metadata": {},
   "source": [
    "## 1. <a id='toc1_'></a>[Imports](#toc0_)"
   ]
  },
  {
   "cell_type": "code",
   "execution_count": null,
   "metadata": {
    "tags": []
   },
   "outputs": [],
   "source": [
    "%load_ext autoreload\n",
    "%autoreload 2"
   ]
  },
  {
   "cell_type": "code",
   "execution_count": null,
   "metadata": {
    "tags": []
   },
   "outputs": [],
   "source": [
    "import os\n",
    "import numpy as np\n",
    "import torch\n",
    "import time\n",
    "import matplotlib.pyplot as plt\n",
    "import statsmodels.api as sm\n",
    "import pandas as pd\n",
    "colors = plt.rcParams['axes.prop_cycle'].by_key()['color']\n",
    "plt.rcParams.update({\"axes.grid\" : True, \"grid.color\": \"black\", \"grid.alpha\":\"0.25\", \"grid.linestyle\": \"--\"})\n",
    "plt.rcParams.update({'font.size': 14})\n",
    "from egm import retired_income\n",
    "\n",
    "import matplotlib as mpl\n",
    "from scipy.stats import binned_statistic\n",
    "\n",
    "mpl.rcParams.update({\n",
    "    \"font.family\": \"serif\",                  # Make serif the default\n",
    "    \"mathtext.fontset\": \"cm\",                 # Match math font to LaTeX\n",
    "})"
   ]
  },
  {
   "cell_type": "code",
   "execution_count": null,
   "metadata": {
    "tags": []
   },
   "outputs": [],
   "source": [
    "from BufferStockModel import BufferStockModelClass\n",
    "from BufferStockModelEGM import BufferStockModelEGMClass\n",
    "from EconDLSolvers import choose_gpu"
   ]
  },
  {
   "cell_type": "markdown",
   "metadata": {},
   "source": [
    "## 2. <a id='toc2_'></a>[Simulate Income process](#toc0_)"
   ]
  },
  {
   "cell_type": "markdown",
   "metadata": {},
   "source": []
  },
  {
   "cell_type": "code",
   "execution_count": null,
   "metadata": {
    "tags": []
   },
   "outputs": [],
   "source": [
    "model = BufferStockModelEGMClass() "
   ]
  },
  {
   "cell_type": "code",
   "execution_count": null,
   "metadata": {},
   "outputs": [],
   "source": [
    "\n",
    "model.simulate_income()"
   ]
  },
  {
   "cell_type": "code",
   "execution_count": null,
   "metadata": {},
   "outputs": [],
   "source": [
    "par = model.par\n",
    "sim = model.sim\n",
    "\n",
    "\n",
    "# levels\n",
    "avg_working_income_before_unemp = sim.working_income_before_unemp.mean(axis=1)\n",
    "avg_working_income_after_unemp = sim.working_income_after_unemp.mean(axis=1)\n",
    "avg_deterministic_income = sim.deterministic_income.mean(axis=1)\n",
    "avg_fixed_effect_income_type = sim.fixed_effect_income_type.mean(axis=1)\n",
    "avg_trend_income_type = sim.trend_income_type.mean(axis=1)\n",
    "avg_transitory_income = sim.transitory_income.mean(axis=1)\n",
    "avg_persistent_income = sim.persistent_income.mean(axis=1)\n",
    "avg_unemployment = sim.unemployment.mean(axis=1)\n",
    "avg_income = sim.income.mean(axis=1)\n",
    "std_income = sim.income.std(axis=1)\n",
    "\n",
    "\n",
    "#  log versions\n",
    "log_avg_deterministic_income = np.log(sim.deterministic_income).mean(axis=1)\n",
    "log_avg_fixed_effect_income_type = np.log(sim.fixed_effect_income_type).mean(axis=1)\n",
    "log_avg_trend_income_type = np.log(sim.trend_income_type).mean(axis=1)\n",
    "log_transitory_income = np.log(sim.transitory_income).mean(axis=1)\n",
    "log_persistent_income = np.log(sim.persistent_income).mean(axis=1)\n",
    "log_income = np.log(sim.income*1000).mean(axis=1)\n",
    "log_income_var = np.log(sim.income*1000).var(axis=1)\n",
    "eta_mean = sim.shocks[...,0].mean(axis=1)\n",
    "epsilon_mean = sim.shocks[...,1].mean(axis=1) "
   ]
  },
  {
   "cell_type": "markdown",
   "metadata": {},
   "source": [
    "## 3. <a id='toc2_'></a>[Profiles](#toc0_)"
   ]
  },
  {
   "cell_type": "code",
   "execution_count": null,
   "metadata": {},
   "outputs": [],
   "source": [
    "fig, ax = plt.subplots(2,2,figsize=(25,15))\n",
    "index_income_work = np.arange(0,par.T_retired)\n",
    "\n",
    "age_range= np.arange(25,par.T_retired+25)\n",
    "\n",
    "ax[0,0].plot(age_range, avg_working_income_after_unemp[index_income_work],label=\"Earnings before taxes and transfers\", linewidth = 3 , color = colors[0])\n",
    "ax[0,0].set_title(\"Earnings before taxes and transfers - mean\", fontsize=25)\n",
    "\n",
    "ax[0,0].set_xlabel(\"Age\", fontsize=20)\n",
    "ax[0,0].set_ylabel(\"$1000\", fontsize=20)\n",
    "# change font size for ticks\n",
    "ax[0,0].tick_params(axis='both', which='major', labelsize=20)\n",
    "\n",
    "ax[0,1].plot(age_range, avg_income[index_income_work],label=\"Disposable income - mean\", linewidth = 3 , color = colors[0])\n",
    "ax[0,1].set_title(\"Disposable income - mean\", fontsize=25)\n",
    "ax[0,1].set_xlabel(\"Age\", fontsize=20)\n",
    "ax[0,1].set_ylabel(\"$1000\", fontsize=20)\n",
    "# change font size for ticks\n",
    "ax[0,1].tick_params(axis='both', which='major', labelsize=20)\n",
    "\n",
    "ax[1,0].plot(age_range, log_income[index_income_work],label=\"Log disposable income\", linewidth = 3 , color = colors[0])\n",
    "ax[1,0].set_title(\"Log disposable income - mean\", fontsize=25)\n",
    "ax[1,0].set_xlabel(\"Age\", fontsize=20)\n",
    "ax[1,0].set_ylabel(\"Log($)\", fontsize=20)\n",
    "# change font size for ticks\n",
    "ax[1,0].tick_params(axis='both', which='major', labelsize=20)\n",
    "\n",
    "\n",
    "ax[1,1].plot(age_range, log_income_var[index_income_work],label=\"Log variance of disposable income\", linewidth = 3 , color = colors[0])\n",
    "ax[1,1].set_title(\"Log disposable income - variance\", fontsize=25)\n",
    "ax[1,1].set_xlabel(\"Age\", fontsize=20)\n",
    "ax[1,1].set_ylabel(\"variance of log($)\", fontsize=20)\n",
    "# change font size for ticks\n",
    "ax[1,1].tick_params(axis='both', which='major', labelsize=20)\n",
    "\n",
    "fig.tight_layout()\n",
    "\n",
    "fig.savefig(\"income.svg\", dpi=300)"
   ]
  },
  {
   "cell_type": "code",
   "execution_count": null,
   "metadata": {},
   "outputs": [],
   "source": [
    "# Step 1: Find unique values and their counts\n",
    "values, counts = np.unique(model.sim.years_employed, return_counts=True)\n",
    "\n",
    "# Step 2: Normalize counts to get probabilities\n",
    "probs = counts / counts.sum()\n",
    "\n",
    "# Step 3: Cumulative sum to get CDF\n",
    "cdf = np.cumsum(probs)\n",
    "\n",
    "\n",
    "\n",
    "fig, ax = plt.subplots(figsize=(10, 6))\n",
    "\n",
    "ax.plot(values, cdf, marker='o', linestyle='-')\n",
    "\n",
    "# Set y-axis ticks at 0.0, 0.1, ..., 1.0\n",
    "ax.set_yticks(np.arange(0.0, 1.01, 0.1))\n",
    "ax.set_yticklabels([f\"{i:.1f}\" for i in np.arange(0.0, 1.01, 0.1)])\n",
    "ax.set_xticks(np.arange(values.min(), values.max() + 1, 5))\n",
    "ax.set_xticklabels([f\"{int(i)}\" for i in np.arange(values.min(), values.max() + 1, 5)])\n",
    "\n",
    "ax.set_xlabel(\"Years Employed\")\n",
    "ax.set_ylabel(\"CDF\")\n",
    "\n",
    "fig.savefig(\"CDF_years_employed.pdf\", dpi=300, bbox_inches='tight')"
   ]
  },
  {
   "cell_type": "markdown",
   "metadata": {},
   "source": [
    "### 3.1 <a id='toc2_'></a>[Decomposition](#toc0_)"
   ]
  },
  {
   "cell_type": "code",
   "execution_count": null,
   "metadata": {},
   "outputs": [],
   "source": [
    "fig,ax = plt.subplots(3,3,figsize=(25,15))\n",
    "index = np.arange(1,par.T_retired)\n",
    "index_income = np.arange(0,par.T)\n",
    "\n",
    "ax[0,0].plot(avg_working_income_before_unemp[index],label=\"Working income before unemployment\")\n",
    "ax[0,0].set_title(\"Working income before unemployment\")\n",
    "ax[0,1].plot(avg_working_income_after_unemp[index],label=\"Working income after unemployment\")\n",
    "ax[0,1].set_title(\"Working income after unemployment\")\n",
    "ax[0,2].plot(avg_deterministic_income[index],label=\"Deterministic income\")\n",
    "ax[0,2].set_title(\"Deterministic income\")\n",
    "ax[1,0].plot(avg_fixed_effect_income_type[index],label=\"Fixed effect income type\")\n",
    "ax[1,0].set_title(\"Fixed effect income type\")\n",
    "ax[1,1].plot(avg_trend_income_type[index],label=\"Trend income type\")\n",
    "ax[1,1].set_title(\"Trend income type\")\n",
    "ax[1,2].plot(avg_transitory_income[index],label=\"Transitory income\")\n",
    "ax[1,2].set_title(\"Transitory income\")\n",
    "ax[2,0].plot(avg_persistent_income[index],label=\"Persistent income\")\n",
    "ax[2,0].set_title(\"Persistent income\")\n",
    "ax[2,1].plot(avg_unemployment[index],label=\"Unemployment\")\n",
    "ax[2,1].set_title(\"Unemployment\")\n",
    "ax[2,2].plot(avg_income[index_income],label=\"Income\")\n",
    "# ax[2,2].plot(std_income,label=\"Income\")\n",
    "ax[2,2].set_title(\"Income\")\n",
    "\n",
    "fig.tight_layout()\n"
   ]
  },
  {
   "cell_type": "markdown",
   "metadata": {},
   "source": [
    "## 4. <a id='toc2_'></a>[Life-time earnings](#toc0_)"
   ]
  },
  {
   "cell_type": "code",
   "execution_count": null,
   "metadata": {},
   "outputs": [],
   "source": [
    "average_earnings = np.mean(model.sim.states[-1,:,2])\n",
    "print(\"Average lifetime earnings: \", average_earnings)"
   ]
  },
  {
   "cell_type": "markdown",
   "metadata": {},
   "source": [
    "### Inequality across specifications"
   ]
  },
  {
   "cell_type": "code",
   "execution_count": null,
   "metadata": {},
   "outputs": [],
   "source": [
    "model.egm.sol_con = None\n",
    "# Define parameter specifications\n",
    "specs = {\n",
    "    'baseline': {},\n",
    "    'no_het_fixed': {'sigma_alpha': 0.0, 'sigma_theta': 0.0},\n",
    "    'no_het': {'sigma_alpha': 0.0, 'sigma_theta': 0.0, 'sigma_z1_0': 0.0},\n",
    "    'no_unemployment': {'a_p_unemp': -50.0, 'b_p_unemp': 0.0, 'c_p_unemp': 0.0, 'd_p_unemp': 0.0},\n",
    "    'no_persistent': {'disable_z_income': True},\n",
    "    'no_transitory': {'mu_epsilon_1': 0.0, 'sigma_epsilon_1': 0.0, 'sigma_epsilon_2': 0.0},\n",
    "}\n",
    "\n",
    "# Initialize container for results\n",
    "results = {}\n",
    "\n",
    "# Loop through specs\n",
    "for name, override_par in specs.items():\n",
    "    model = BufferStockModelEGMClass(par =override_par)\n",
    "    # model.egm.sol_con = None\n",
    "    model.simulate_income()\n",
    "\n",
    "    sim = model.sim\n",
    "    le = sim.lifetime_earnings_compare\n",
    "    indicator = le > 50\n",
    "    le_valid = le[indicator]\n",
    "\n",
    "    log_le = np.log(le_valid)\n",
    "    std_log = np.std(log_le)\n",
    "    pct_10, pct_50, pct_90, pct_99 = np.percentile(le_valid, [10, 50, 90, 99])\n",
    "    results[name] = {\n",
    "        'Std. dev of log': std_log,\n",
    "        'P90/P10': pct_90 / pct_10,\n",
    "        'P90/P50': pct_90 / pct_50,\n",
    "        'P50/P10': pct_50 / pct_10,\n",
    "        'P99/P10': pct_99 / pct_10\n",
    "        }\n",
    "\n",
    "\n",
    "# Create transposed DataFrame\n",
    "df_results = pd.DataFrame(results).T.round(4)\n",
    "print(df_results.T)"
   ]
  },
  {
   "cell_type": "code",
   "execution_count": null,
   "metadata": {},
   "outputs": [],
   "source": [
    "def df_to_latex_tabular(df, caption=None):\n",
    "    from io import StringIO\n",
    "    buffer = StringIO()\n",
    "    buffer.write(\"\\\\begin{tabular}{l\" + \"r\" * df.shape[1] + \"}\\n\")\n",
    "    buffer.write(\"\\\\toprule\\n\")\n",
    "    buffer.write(\" & \" + \" & \".join(df.columns) + \" \\\\\\\\\\n\")\n",
    "    buffer.write(\"\\\\midrule\\n\")\n",
    "    for row_label, row in df.iterrows():\n",
    "        values = \" & \".join(f\"{v:.2f}\" if pd.notnull(v) else \"\" for v in row)\n",
    "        buffer.write(f\"{row_label} & {values} \\\\\\\\\\n\")\n",
    "    buffer.write(\"\\\\bottomrule\\n\")\n",
    "    buffer.write(\"\\\\end{tabular}\\n\")\n",
    "    return buffer.getvalue()"
   ]
  },
  {
   "cell_type": "code",
   "execution_count": null,
   "metadata": {},
   "outputs": [],
   "source": [
    "latex_str = df_to_latex_tabular(df_results.T)\n",
    "print(latex_str)"
   ]
  },
  {
   "cell_type": "markdown",
   "metadata": {},
   "source": [
    "## 5. <a id='toc2_'></a>[Regressing life-time earnings](#toc0_)"
   ]
  },
  {
   "cell_type": "code",
   "execution_count": null,
   "metadata": {},
   "outputs": [],
   "source": [
    "\n",
    "indicator = (sim.states[0,:,3+7] == 1)\n",
    "\n",
    "fig, ax = plt.subplots(figsize=(10, 6))\n",
    "# Create a binned scatterplot\n",
    "\n",
    "\n",
    "n_bins = 100\n",
    "bin_means, bin_edges, _ = binned_statistic(sim.states[-1,:,1][indicator], sim.states[-1,:,2][indicator], statistic='mean', bins=n_bins)\n",
    "# bin_means, bin_edges, _ = binned_statistic(sim.states[-1,:,1], sim.states[-1,:,2], statistic='mean', bins=n_bins)\n",
    "bin_centers = 0.5 * (bin_edges[1:] + bin_edges[:-1])\n",
    "\n",
    "\n",
    "ax.scatter(bin_centers, bin_means, marker='o', color=colors[0], label='Mean Lifetime Earnings by z')\n",
    "ax.set_xlabel('z')\n",
    "ax.set_ylabel('Mean Lifetime Earnings')\n",
    "\n",
    "fig.savefig(\"mean_lifetime_earnings_by_z.pdf\", dpi=300, bbox_inches='tight')"
   ]
  },
  {
   "cell_type": "code",
   "execution_count": null,
   "metadata": {},
   "outputs": [],
   "source": [
    "import numpy as np\n",
    "import pandas as pd\n",
    "import statsmodels.api as sm\n",
    "\n",
    "results_list = []\n",
    "\n",
    "for i_type in range(model.par.Ntypes):\n",
    "\n",
    "    sim = model.sim\n",
    "    indicator = (sim.states[0,:,3+i_type] == 1)\n",
    "\n",
    "    # Extract final-period states\n",
    "    annual_le = sim.states[-1, :, 2][indicator]  # Lifetime earnings\n",
    "    z = sim.states[-1, :, 1][indicator]  # z variable\n",
    "\n",
    "    # Regression of annual_le on z\n",
    "    data = pd.DataFrame({'annual_le': annual_le, 'z': z})\n",
    "    X = data[['z']]  # Use z and z_squared as predictors\n",
    "\n",
    "    X = sm.add_constant(X)  # add intercept\n",
    "    y = annual_le\n",
    "    reg = sm.OLS(y, X).fit()\n",
    "\n",
    "    # Save results\n",
    "    results_list.append({\n",
    "        'type': i_type,\n",
    "        'intercept': reg.params['const'],\n",
    "        'z_coef': reg.params[1],  # or reg.params['z'] if named\n",
    "        'n_obs': reg.nobs\n",
    "    })\n",
    "\n",
    "# Combine results into a DataFrame\n",
    "coef_df = pd.DataFrame(results_list)\n",
    "\n",
    "print(coef_df)"
   ]
  },
  {
   "cell_type": "code",
   "execution_count": null,
   "metadata": {},
   "outputs": [],
   "source": [
    "latex_table = (\n",
    "    coef_df[['type', 'intercept', 'z_coef']]  # Include 'type' column\n",
    "    .rename(columns={\n",
    "        'type': 'Type',\n",
    "        'intercept': 'Intercept',\n",
    "        'z_coef': 'Coefficient',\n",
    "        'r_squared': '$R^2$'\n",
    "    })\n",
    "    .style\n",
    "    .format({\n",
    "        'Type': '{:.0f}',       # Format as integer (no decimals)\n",
    "        'Intercept': '{:.4f}',   # 4 decimal places\n",
    "        'Coefficient': '{:.4f}',\n",
    "        '$R^2$': '{:.4f}'\n",
    "    })\n",
    "    .hide(axis='index')\n",
    "    .to_latex(\n",
    "        hrules=True,\n",
    "        column_format='lrrrr',  # Added one 'r' for the new column\n",
    "        caption='Regression Results by Type',\n",
    "        label='tab:reg_results',\n",
    "        position='H'\n",
    "    )\n",
    ")\n",
    "\n",
    "print(latex_table)"
   ]
  },
  {
   "cell_type": "code",
   "execution_count": null,
   "metadata": {},
   "outputs": [],
   "source": [
    "coef_df"
   ]
  },
  {
   "cell_type": "code",
   "execution_count": null,
   "metadata": {},
   "outputs": [],
   "source": [
    "# Get lifetime earnings\n",
    "actual_le = model.sim.states[-1, :, 2]\n",
    "\n",
    "# compute predicted lifetime earnings using the regression coefficients\n",
    "predicted_le = np.zeros_like(actual_le)\n",
    "for i in range(model.sim.N):\n",
    "    type_index = np.argmax(model.sim.states[0,i,3:])\n",
    "    reg_constant = coef_df[\"intercept\"][type_index]\n",
    "    reg_slope = coef_df[\"z_coef\"][type_index]\n",
    "    predicted_le[i] = reg_constant + reg_slope * model.sim.states[-1,i,1]  # z is the second state variable in the last period\n",
    "\n",
    "# Calculate retired income based on predicted and actual lifetime earnings\n",
    "retired_income_predicted = retired_income(par,predicted_le)\n",
    "retired_income_predicted = par.lambdaa * np.maximum(retired_income_predicted,par.Y_min)**(1-par.tau)\n",
    "retired_income_ = retired_income(par,actual_le)\n",
    "retired_income_ = par.lambdaa * np.maximum(retired_income_,par.Y_min)**(1-par.tau)\n",
    "\n"
   ]
  },
  {
   "cell_type": "code",
   "execution_count": null,
   "metadata": {},
   "outputs": [],
   "source": [
    "# Create dictionary with the metric as keys and lists as values\n",
    "q_low = 10\n",
    "summary_data = {\n",
    "    'Lifetime earnings - Approximate': [np.mean(predicted_le), np.std(predicted_le), np.percentile(predicted_le, q=q_low), np.percentile(predicted_le, q=95)],\n",
    "    'Lifetime earnings - Baseline': [np.mean(actual_le), np.std(actual_le), np.percentile(actual_le, q=q_low), np.percentile(actual_le, q=95)],\n",
    "    'Retirement income - Approximate': [np.mean(retired_income_predicted), np.std(retired_income_predicted), np.percentile(retired_income_predicted, q=q_low), np.percentile(retired_income_predicted, q=95)],\n",
    "    'Retirement income - Baseline': [np.mean(retired_income_), np.std(retired_income_), np.percentile(retired_income_, q=q_low), np.percentile(retired_income_, q=95)],\n",
    "\n",
    "}\n",
    "\n",
    "# Create DataFrame and transpose\n",
    "summary_df = pd.DataFrame(summary_data, index=[\"Mean\", \"Standard Deviation\", \"10th Percentile\", \"95th Percentile\"]).T\n",
    "summary_df.index.name = \"\"  # Optional: give the index a name\n",
    "\n",
    "# Print DataFrame\n",
    "print(summary_df)\n",
    "\n",
    "# Export to LaTeX\n",
    "latex_code = summary_df.to_latex(float_format=\"%.4f\")\n",
    "print(latex_code)"
   ]
  },
  {
   "cell_type": "markdown",
   "metadata": {},
   "source": [
    "### Adding a squared term"
   ]
  },
  {
   "cell_type": "code",
   "execution_count": null,
   "metadata": {},
   "outputs": [],
   "source": [
    "results_list = []\n",
    "\n",
    "for i_type in range(model.par.Ntypes):\n",
    "\n",
    "    sim = model.sim\n",
    "    indicator = (sim.states[0,:,3+i_type] == 1)\n",
    "\n",
    "    # Extract final-period states\n",
    "    annual_le = sim.states[-1, :, 2][indicator]  # Lifetime earnings\n",
    "    z = sim.states[-1, :, 1][indicator]  # z variable\n",
    "    z_squared = z ** 2  # Optional: add squared term if needed\n",
    "\n",
    "    # Regression of annual_le on z\n",
    "    data = pd.DataFrame({'annual_le': annual_le, 'z': z, 'z_squared': z_squared})\n",
    "    X = data[['z', 'z_squared']]  # Use z and z_squared as predictors\n",
    "    # add squared term if needed\n",
    "\n",
    "    X = sm.add_constant(X)  # add intercept\n",
    "    y = annual_le\n",
    "    reg = sm.OLS(y, X).fit()\n",
    "\n",
    "    # Save results\n",
    "    results_list.append({\n",
    "        'type': i_type,\n",
    "        'intercept': reg.params['const'],\n",
    "        'z_coef': reg.params[1],  # or reg.params['z'] if named\n",
    "        'z_squared_coef': reg.params[2],  # or reg.params['z_squared'] if named\n",
    "        'r_squared': reg.rsquared,\n",
    "        'n_obs': reg.nobs\n",
    "    })\n",
    "\n",
    "# Combine results into a DataFrame\n",
    "coef_df = pd.DataFrame(results_list)\n",
    "\n",
    "print(coef_df)"
   ]
  },
  {
   "cell_type": "code",
   "execution_count": null,
   "metadata": {},
   "outputs": [],
   "source": [
    "latex_table = (\n",
    "    coef_df[['type', 'intercept', 'z_coef', 'z_squared_coef', 'r_squared']]  # Include 'type' column\n",
    "    .rename(columns={\n",
    "        'type': 'Type',\n",
    "        'intercept': 'Intercept',\n",
    "        'z_coef': 'Coefficient on linear z',\n",
    "        'z_squared_coef': 'Coefficient on squared z',\n",
    "        'r_squared': '$R^2$'\n",
    "    })\n",
    "    .style\n",
    "    .format({\n",
    "        'Type': '{:.0f}',       # Format as integer (no decimals)\n",
    "        'Intercept': '{:.4f}',   # 4 decimal places\n",
    "        'Coefficient on linear z': '{:.4f}',\n",
    "        'Coefficient on squared z': '{:.4f}',\n",
    "        '$R^2$': '{:.4f}'\n",
    "    })\n",
    "    .hide(axis='index')\n",
    "    .to_latex(\n",
    "        hrules=True,\n",
    "        column_format='lrrrr',  # Added one 'r' for the new column\n",
    "        caption='Regression Results by Type',\n",
    "        label='tab:reg_results',\n",
    "        position='H'\n",
    "    )\n",
    ")\n",
    "\n",
    "print(latex_table)"
   ]
  },
  {
   "cell_type": "code",
   "execution_count": null,
   "metadata": {},
   "outputs": [],
   "source": [
    "coef_df"
   ]
  },
  {
   "cell_type": "code",
   "execution_count": null,
   "metadata": {},
   "outputs": [],
   "source": [
    "actual_le = model.sim.states[-1, :, 2]\n",
    "\n",
    "\n",
    "predicted_le = np.zeros_like(actual_le)\n",
    "\n",
    "for i in range(model.sim.N):\n",
    "    type_index = np.argmax(model.sim.states[0,i,3:])\n",
    "    reg_constant = coef_df[\"intercept\"][type_index]\n",
    "    reg_slope = coef_df[\"z_coef\"][type_index]\n",
    "    reg_squared = coef_df[\"z_squared_coef\"][type_index]\n",
    "    predicted_le[i] = reg_constant + reg_slope * model.sim.states[-1,i,1] + reg_squared * model.sim.states[-1,i,1]**2  # z is the second state variable in the last period\n",
    "\n",
    "retired_income_predicted = retired_income(par,predicted_le)\n",
    "retired_income_predicted = par.lambdaa * np.maximum(retired_income_predicted,par.Y_min)**(1-par.tau)\n",
    "\n",
    "retired_income_ = retired_income(par,actual_le)\n",
    "retired_income_ = par.lambdaa * np.maximum(retired_income_,par.Y_min)**(1-par.tau)\n",
    "\n",
    "\n"
   ]
  },
  {
   "cell_type": "code",
   "execution_count": null,
   "metadata": {},
   "outputs": [],
   "source": [
    "# Create dictionary with the metric as keys and lists as values\n",
    "q_low = 10\n",
    "q_high = 95\n",
    "summary_data = {\n",
    "    'Lifetime earnings - Approximate': [np.mean(predicted_le), np.std(predicted_le), np.percentile(predicted_le, q=q_low), np.percentile(predicted_le, q=95)],\n",
    "    'Lifetime earnings - Baseline': [np.mean(actual_le), np.std(actual_le), np.percentile(actual_le, q=q_low), np.percentile(actual_le, q=95)],\n",
    "    'Retirement income - Approximate': [np.mean(retired_income_predicted), np.std(retired_income_predicted), np.percentile(retired_income_predicted, q=q_low), np.percentile(retired_income_predicted, q=95)],\n",
    "    'Retirement income - Baseline': [np.mean(retired_income_), np.std(retired_income_), np.percentile(retired_income_, q=q_low), np.percentile(retired_income_, q=95)],\n",
    "\n",
    "}\n",
    "\n",
    "# Create DataFrame and transpose\n",
    "summary_df = pd.DataFrame(summary_data, index=[\"Mean\", \"Standard Deviation\", \"10th Percentile\", \"95th Percentile\"]).T\n",
    "summary_df.index.name = \"\"  # Optional: give the index a name\n",
    "\n",
    "# Print DataFrame\n",
    "print(summary_df)\n",
    "\n",
    "# Export to LaTeX\n",
    "latex_code = summary_df.to_latex(float_format=\"%.4f\")\n",
    "print(latex_code)"
   ]
  }
 ],
 "metadata": {
  "kernelspec": {
   "display_name": "base",
   "language": "python",
   "name": "python3"
  },
  "language_info": {
   "codemirror_mode": {
    "name": "ipython",
    "version": 3
   },
   "file_extension": ".py",
   "mimetype": "text/x-python",
   "name": "python",
   "nbconvert_exporter": "python",
   "pygments_lexer": "ipython3",
   "version": "3.13.5"
  }
 },
 "nbformat": 4,
 "nbformat_minor": 4
}
