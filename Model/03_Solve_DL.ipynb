{
 "cells": [
  {
   "cell_type": "markdown",
   "metadata": {},
   "source": [
    "## 1. <a id='toc1_'></a>[Imports](#toc0_)"
   ]
  },
  {
   "cell_type": "code",
   "execution_count": null,
   "metadata": {},
   "outputs": [],
   "source": [
    "%load_ext autoreload\n",
    "%autoreload 2"
   ]
  },
  {
   "cell_type": "code",
   "execution_count": null,
   "metadata": {},
   "outputs": [],
   "source": [
    "import os\n",
    "import numpy as np\n",
    "import torch\n",
    "import pickle\n",
    "import time\n",
    "import matplotlib.pyplot as plt\n",
    "colors = plt.rcParams['axes.prop_cycle'].by_key()['color']\n",
    "plt.rcParams.update({\"axes.grid\" : True, \"grid.color\": \"black\", \"grid.alpha\":\"0.25\", \"grid.linestyle\": \"--\"})\n",
    "plt.rcParams.update({'font.size': 14})"
   ]
  },
  {
   "cell_type": "code",
   "execution_count": 3,
   "metadata": {},
   "outputs": [],
   "source": [
    "from BufferStockModel import BufferStockModelClass\n",
    "\n",
    "from BufferStockModelEGM import BufferStockModelEGMClass\n",
    "from EconDLSolvers import choose_gpu"
   ]
  },
  {
   "cell_type": "markdown",
   "metadata": {},
   "source": [
    "## 2. <a id='toc1_'></a>[Model](#toc0_)"
   ]
  },
  {
   "cell_type": "code",
   "execution_count": 4,
   "metadata": {},
   "outputs": [
    {
     "name": "stdout",
     "output_type": "stream",
     "text": [
      "No GPU available, using CPU\n"
     ]
    }
   ],
   "source": [
    "device = choose_gpu()"
   ]
  },
  {
   "cell_type": "code",
   "execution_count": 36,
   "metadata": {},
   "outputs": [],
   "source": [
    "algoname = \"DeepSimulate\"\n",
    "model = BufferStockModelClass(device=device,algoname=algoname)"
   ]
  },
  {
   "cell_type": "code",
   "execution_count": 21,
   "metadata": {},
   "outputs": [],
   "source": [
    "algoname = \"SimEGM\"\n",
    "model_SimEGM = BufferStockModelClass(device=device,algoname=algoname)"
   ]
  },
  {
   "cell_type": "code",
   "execution_count": 37,
   "metadata": {},
   "outputs": [
    {
     "name": "stdout",
     "output_type": "stream",
     "text": [
      "-1.7687537670135498\n"
     ]
    }
   ],
   "source": [
    "model.simulate_R()\n",
    "print(model.sim.R.item())"
   ]
  },
  {
   "cell_type": "markdown",
   "metadata": {},
   "source": [
    "## 3. <a id='toc1_'></a>[Solve](#toc0_)"
   ]
  },
  {
   "cell_type": "code",
   "execution_count": null,
   "metadata": {},
   "outputs": [
    {
     "name": "stdout",
     "output_type": "stream",
     "text": [
      "started solving: 2025-05-05 14:11:37\n"
     ]
    }
   ],
   "source": [
    "model.train.K_time = 60\n",
    "model.solve(do_print=True)\n",
    "model.compute_euler_errors(Nbatch_share=0.001)\n",
    "model.save('GUV_DeepSimulate_base.pkl')"
   ]
  },
  {
   "cell_type": "code",
   "execution_count": null,
   "metadata": {},
   "outputs": [],
   "source": [
    "model_SimEGM.train.K_time = 60\n",
    "model_SimEGM.solve(do_print=True)\n",
    "model_SimEGM.compute_euler_errors(Nbatch_share=0.001)\n",
    "model_SimEGM.save('GUV_SimEGM_base.pkl')\n"
   ]
  },
  {
   "cell_type": "markdown",
   "metadata": {},
   "source": [
    "### Approximate model"
   ]
  },
  {
   "cell_type": "code",
   "execution_count": null,
   "metadata": {},
   "outputs": [],
   "source": [
    "par_dict = {'use_reg':True}\n",
    "algoname = \"DeepSimulate\"\n",
    "model_reg = BufferStockModelClass(device=device,algoname=algoname,par=par_dict)"
   ]
  },
  {
   "cell_type": "code",
   "execution_count": null,
   "metadata": {},
   "outputs": [],
   "source": [
    "par_dict = {'use_reg':True}\n",
    "algoname = \"SimEGM\"\n",
    "model_SimEGM_reg = BufferStockModelClass(device=device,algoname=algoname,par=par_dict)"
   ]
  },
  {
   "cell_type": "code",
   "execution_count": null,
   "metadata": {},
   "outputs": [],
   "source": [
    "model_reg.train.K_time = 60\n",
    "model_reg.solve(do_print=True)\n",
    "model_reg.compute_euler_errors(Nbatch_share=0.001)\n",
    "model_reg.save('GUV_DeepSimulate_reg.pkl')"
   ]
  },
  {
   "cell_type": "code",
   "execution_count": null,
   "metadata": {},
   "outputs": [],
   "source": [
    "model_SimEGM_reg.train.K_time = 60\n",
    "model_SimEGM_reg.solve(do_print=True)\n",
    "model_SimEGM_reg.compute_euler_errors(Nbatch_share=0.001)\n",
    "model_SimEGM_reg.save('GUV_SimEGM_reg.pkl')"
   ]
  },
  {
   "cell_type": "markdown",
   "metadata": {},
   "source": [
    "### Policy Results"
   ]
  },
  {
   "cell_type": "code",
   "execution_count": null,
   "metadata": {},
   "outputs": [],
   "source": [
    "model_EGM = BufferStockModelEGMClass()"
   ]
  },
  {
   "cell_type": "code",
   "execution_count": null,
   "metadata": {},
   "outputs": [],
   "source": [
    "sol_con_grid,sol_sr_grid = model_reg.compute_policy_on_grids(model_EGM.egm.m_grids, model_EGM.egm.z_grid)"
   ]
  },
  {
   "cell_type": "code",
   "execution_count": null,
   "metadata": {},
   "outputs": [],
   "source": [
    "sol_con_grid_SimEGM,sol_sr_grid = model_SimEGM_reg.compute_policy_on_grids(model_EGM.egm.m_grids, model_EGM.egm.z_grid)"
   ]
  },
  {
   "cell_type": "code",
   "execution_count": null,
   "metadata": {},
   "outputs": [],
   "source": [
    "# Organize results into a dictionary\n",
    "results_dict = {\n",
    "    'sol_con_grid_DeepSimulate': sol_con_grid,\n",
    "    'sol_con_grid_SimEGM': sol_con_grid_SimEGM,\n",
    "}\n",
    "\n",
    "# Save to pickle\n",
    "with open('policy_results.pkl', 'wb') as f:\n",
    "    pickle.dump(results_dict, f)"
   ]
  }
 ],
 "metadata": {
  "kernelspec": {
   "display_name": "base",
   "language": "python",
   "name": "python3"
  },
  "language_info": {
   "codemirror_mode": {
    "name": "ipython",
    "version": 3
   },
   "file_extension": ".py",
   "mimetype": "text/x-python",
   "name": "python",
   "nbconvert_exporter": "python",
   "pygments_lexer": "ipython3",
   "version": "3.11.4"
  }
 },
 "nbformat": 4,
 "nbformat_minor": 2
}
